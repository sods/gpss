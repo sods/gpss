{
 "cells": [
  {
   "cell_type": "markdown",
   "metadata": {},
   "source": [
    "# Using Pandas and GeoPandas in Data Science\n"
   ]
  },
  {
   "cell_type": "markdown",
   "metadata": {
    "slideshow": {
     "slide_type": "fragment"
    }
   },
   "source": [
    "## Understanding the Data"
   ]
  },
  {
   "cell_type": "markdown",
   "metadata": {
    "slideshow": {
     "slide_type": "slide"
    }
   },
   "source": [
    "## Sample data - \n",
    "* Kenya Secondary School data 2007 from Opendata.go.ke\n",
    "* Kenya_Secondary_Schools.csv from Opendata.go.ke\n",
    "* Kenya counties shapefile\n"
   ]
  },
  {
   "cell_type": "code",
   "execution_count": 51,
   "metadata": {
    "collapsed": false,
    "slideshow": {
     "slide_type": "subslide"
    }
   },
   "outputs": [
    {
     "data": {
      "text/plain": [
       "Index([u'Code', u'Name of School', u'School Address', u'Public or Private',\n",
       "       u'School Sponsor', u'Girls/Boys/Mixed', u'Day or Boarding',\n",
       "       u'Ordinary or Special', u'Total Enrolment 2007',\n",
       "       u'Total Teaching staff', u'Pupil Teacher Ratio',\n",
       "       u'Acreage per enrolment', u'TSC Male Teachers', u'TSC Female Teachers',\n",
       "       u'Local Authority Male Teachers', u'Local Authority Female Teachers',\n",
       "       u'PTA Board of Governors Male Teacher',\n",
       "       u'PTA Board of Governors Female Teacher', u'Other Male Teachers',\n",
       "       u'Other Female Teachers', u'Non Teaching Staff Male',\n",
       "       u'Non Teaching Staff Female', u'Acreage', u'District', u'Division',\n",
       "       u'Location', u'Sublocation', u'School Zone', u'Costituency',\n",
       "       u'Location 1', u'Province'],\n",
       "      dtype='object')"
      ]
     },
     "execution_count": 51,
     "metadata": {},
     "output_type": "execute_result"
    }
   ],
   "source": [
    "%matplotlib inline\n",
    "# for ploting\n",
    "import matplotlib.pyplot as plt\n",
    "# for reading in files (.xls, csv), manipulating data and ploting\n",
    "import pandas as pd\n",
    "# for matrix manipulations\n",
    "import numpy as np\n",
    "\n",
    "\n",
    "datadf = pd.read_csv('../data/Kenya_Secondary_Schools.csv')\n",
    "#display the columns in the dataset\n",
    "datadf.columns"
   ]
  },
  {
   "cell_type": "code",
   "execution_count": 13,
   "metadata": {
    "collapsed": false,
    "slideshow": {
     "slide_type": "subslide"
    }
   },
   "outputs": [
    {
     "data": {
      "text/plain": [
       "Code                                      object\n",
       "Name of School                            object\n",
       "School Address                            object\n",
       "Public or Private                         object\n",
       "School Sponsor                            object\n",
       "Girls/Boys/Mixed                          object\n",
       "Day or Boarding                           object\n",
       "Ordinary or Special                       object\n",
       "Total Enrolment 2007                       int64\n",
       "Total Teaching staff                       int64\n",
       "Pupil Teacher Ratio                        int64\n",
       "Acreage per enrolment                    float64\n",
       "TSC Male Teachers                          int64\n",
       "TSC Female Teachers                        int64\n",
       "Local Authority Male Teachers              int64\n",
       "Local Authority Female Teachers            int64\n",
       "PTA Board of Governors Male Teacher        int64\n",
       "PTA Board of Governors Female Teacher      int64\n",
       "Other Male Teachers                        int64\n",
       "Other Female Teachers                      int64\n",
       "Non Teaching Staff Male                    int64\n",
       "Non Teaching Staff Female                  int64\n",
       "Acreage                                    int64\n",
       "District                                  object\n",
       "Division                                  object\n",
       "Location                                  object\n",
       "Sublocation                               object\n",
       "School Zone                               object\n",
       "Costituency                               object\n",
       "Location 1                                object\n",
       "Province                                  object\n",
       "dtype: object"
      ]
     },
     "execution_count": 13,
     "metadata": {},
     "output_type": "execute_result"
    }
   ],
   "source": [
    "datadf.dtypes"
   ]
  },
  {
   "cell_type": "code",
   "execution_count": 68,
   "metadata": {
    "collapsed": false
   },
   "outputs": [
    {
     "name": "stdout",
     "output_type": "stream",
     "text": [
      "(6492, 33)\n"
     ]
    },
    {
     "data": {
      "text/html": [
       "<div>\n",
       "<table border=\"1\" class=\"dataframe\">\n",
       "  <thead>\n",
       "    <tr style=\"text-align: right;\">\n",
       "      <th></th>\n",
       "      <th>Code</th>\n",
       "      <th>Name of School</th>\n",
       "      <th>School Address</th>\n",
       "      <th>Public or Private</th>\n",
       "      <th>School Sponsor</th>\n",
       "      <th>Girls/Boys/Mixed</th>\n",
       "      <th>Day or Boarding</th>\n",
       "      <th>Ordinary or Special</th>\n",
       "      <th>Total Enrolment 2007</th>\n",
       "      <th>Total Teaching staff</th>\n",
       "      <th>...</th>\n",
       "      <th>District</th>\n",
       "      <th>Division</th>\n",
       "      <th>Location</th>\n",
       "      <th>Sublocation</th>\n",
       "      <th>School Zone</th>\n",
       "      <th>Costituency</th>\n",
       "      <th>Location 1</th>\n",
       "      <th>Province</th>\n",
       "      <th>lat</th>\n",
       "      <th>lon</th>\n",
       "    </tr>\n",
       "  </thead>\n",
       "  <tbody>\n",
       "    <tr>\n",
       "      <th>0</th>\n",
       "      <td>F3020455</td>\n",
       "      <td>NGOZI GIRLS SEC SCH</td>\n",
       "      <td>149 LUNGA LUNGA</td>\n",
       "      <td>PUBLIC</td>\n",
       "      <td>CENTRAL GOVERNMENT/DEB</td>\n",
       "      <td>GIRLS ONLY</td>\n",
       "      <td>BOARDING ONLY</td>\n",
       "      <td>ORDINARY</td>\n",
       "      <td>58</td>\n",
       "      <td>3</td>\n",
       "      <td>...</td>\n",
       "      <td>KWALE</td>\n",
       "      <td>MSAMBWENI</td>\n",
       "      <td>VANGA</td>\n",
       "      <td>JEGO</td>\n",
       "      <td>LUNGALUNGA</td>\n",
       "      <td>MSAMBWENI</td>\n",
       "      <td>(-4.64303800000, 39.18479600000)</td>\n",
       "      <td>COAST</td>\n",
       "      <td>-4.643038</td>\n",
       "      <td>39.184796</td>\n",
       "    </tr>\n",
       "    <tr>\n",
       "      <th>1</th>\n",
       "      <td>F3020478</td>\n",
       "      <td>LUNGA LUNGA MIXED DAY SEC</td>\n",
       "      <td>9,LUNGA LUNGA</td>\n",
       "      <td>PUBLIC</td>\n",
       "      <td>CENTRAL GOVERNMENT/DEB</td>\n",
       "      <td>MIXED</td>\n",
       "      <td>DAY ONLY</td>\n",
       "      <td>ORDINARY</td>\n",
       "      <td>331</td>\n",
       "      <td>13</td>\n",
       "      <td>...</td>\n",
       "      <td>KWALE</td>\n",
       "      <td>MSAMBWENI</td>\n",
       "      <td>LUNGA LUNGA</td>\n",
       "      <td>SEGA</td>\n",
       "      <td>LUNGALUNGA</td>\n",
       "      <td>MSAMBWENI</td>\n",
       "      <td>(-4.54284500000, 39.11903600000)</td>\n",
       "      <td>COAST</td>\n",
       "      <td>-4.542845</td>\n",
       "      <td>39.119036</td>\n",
       "    </tr>\n",
       "    <tr>\n",
       "      <th>2</th>\n",
       "      <td>F3020336</td>\n",
       "      <td>RAMISI MIXED SEC</td>\n",
       "      <td>159 MSAMBWENI</td>\n",
       "      <td>PUBLIC</td>\n",
       "      <td>CENTRAL GOVERNMENT/DEB</td>\n",
       "      <td>MIXED</td>\n",
       "      <td>DAY &amp; BOARDING</td>\n",
       "      <td>ORDINARY</td>\n",
       "      <td>385</td>\n",
       "      <td>15</td>\n",
       "      <td>...</td>\n",
       "      <td>KWALE</td>\n",
       "      <td>MSAMBWENI</td>\n",
       "      <td>KIGWENDE SHIRAZI</td>\n",
       "      <td>SHIRAZI</td>\n",
       "      <td>MSAMBWENI</td>\n",
       "      <td>MSAMBWENI</td>\n",
       "      <td>(-4.52158100000, 39.39792600000)</td>\n",
       "      <td>COAST</td>\n",
       "      <td>-4.521581</td>\n",
       "      <td>39.397926</td>\n",
       "    </tr>\n",
       "    <tr>\n",
       "      <th>3</th>\n",
       "      <td>F3020318</td>\n",
       "      <td>KINGWEDE SEC SCH</td>\n",
       "      <td>1334 UKUNDA</td>\n",
       "      <td>PUBLIC</td>\n",
       "      <td>CENTRAL GOVERNMENT/DEB</td>\n",
       "      <td>MIXED</td>\n",
       "      <td>BOARDING ONLY</td>\n",
       "      <td>ORDINARY</td>\n",
       "      <td>126</td>\n",
       "      <td>6</td>\n",
       "      <td>...</td>\n",
       "      <td>KWALE</td>\n",
       "      <td>MSAMBWENI</td>\n",
       "      <td>KINGWEDE/SHIRAZ</td>\n",
       "      <td>KIGWEDE</td>\n",
       "      <td>MSAMBWENI</td>\n",
       "      <td>MSAMBWENI</td>\n",
       "      <td>(-4.48936000000, 39.45773000000)</td>\n",
       "      <td>COAST</td>\n",
       "      <td>-4.489360</td>\n",
       "      <td>39.457730</td>\n",
       "    </tr>\n",
       "    <tr>\n",
       "      <th>4</th>\n",
       "      <td>F3020283</td>\n",
       "      <td>MSAMBWENI SEC SCH</td>\n",
       "      <td>14 MSAMBWENI</td>\n",
       "      <td>PUBLIC</td>\n",
       "      <td>CENTRAL GOVERNMENT/DEB</td>\n",
       "      <td>MIXED</td>\n",
       "      <td>DAY &amp; BOARDING</td>\n",
       "      <td>ORDINARY</td>\n",
       "      <td>553</td>\n",
       "      <td>23</td>\n",
       "      <td>...</td>\n",
       "      <td>KWALE</td>\n",
       "      <td>MSAMBWENI</td>\n",
       "      <td>MSAMBWENI</td>\n",
       "      <td>VINGUJINI</td>\n",
       "      <td>MSAMBWENI</td>\n",
       "      <td>MSAMBWENI</td>\n",
       "      <td>(-4.47627200000, 39.47484000000)</td>\n",
       "      <td>COAST</td>\n",
       "      <td>-4.476272</td>\n",
       "      <td>39.474840</td>\n",
       "    </tr>\n",
       "  </tbody>\n",
       "</table>\n",
       "<p>5 rows × 33 columns</p>\n",
       "</div>"
      ],
      "text/plain": [
       "       Code             Name of School   School Address Public or Private  \\\n",
       "0  F3020455        NGOZI GIRLS SEC SCH  149 LUNGA LUNGA            PUBLIC   \n",
       "1  F3020478  LUNGA LUNGA MIXED DAY SEC    9,LUNGA LUNGA            PUBLIC   \n",
       "2  F3020336           RAMISI MIXED SEC    159 MSAMBWENI            PUBLIC   \n",
       "3  F3020318           KINGWEDE SEC SCH      1334 UKUNDA            PUBLIC   \n",
       "4  F3020283          MSAMBWENI SEC SCH     14 MSAMBWENI            PUBLIC   \n",
       "\n",
       "           School Sponsor Girls/Boys/Mixed Day or Boarding  \\\n",
       "0  CENTRAL GOVERNMENT/DEB       GIRLS ONLY   BOARDING ONLY   \n",
       "1  CENTRAL GOVERNMENT/DEB            MIXED        DAY ONLY   \n",
       "2  CENTRAL GOVERNMENT/DEB            MIXED  DAY & BOARDING   \n",
       "3  CENTRAL GOVERNMENT/DEB            MIXED   BOARDING ONLY   \n",
       "4  CENTRAL GOVERNMENT/DEB            MIXED  DAY & BOARDING   \n",
       "\n",
       "  Ordinary or Special  Total Enrolment 2007  Total Teaching staff    ...      \\\n",
       "0            ORDINARY                    58                     3    ...       \n",
       "1            ORDINARY                   331                    13    ...       \n",
       "2            ORDINARY                   385                    15    ...       \n",
       "3            ORDINARY                   126                     6    ...       \n",
       "4            ORDINARY                   553                    23    ...       \n",
       "\n",
       "   District   Division          Location  Sublocation  School Zone  \\\n",
       "0     KWALE  MSAMBWENI             VANGA         JEGO   LUNGALUNGA   \n",
       "1     KWALE  MSAMBWENI       LUNGA LUNGA         SEGA   LUNGALUNGA   \n",
       "2     KWALE  MSAMBWENI  KIGWENDE SHIRAZI      SHIRAZI    MSAMBWENI   \n",
       "3     KWALE  MSAMBWENI   KINGWEDE/SHIRAZ      KIGWEDE    MSAMBWENI   \n",
       "4     KWALE  MSAMBWENI         MSAMBWENI    VINGUJINI    MSAMBWENI   \n",
       "\n",
       "   Costituency                        Location 1  Province       lat  \\\n",
       "0    MSAMBWENI  (-4.64303800000, 39.18479600000)     COAST -4.643038   \n",
       "1    MSAMBWENI  (-4.54284500000, 39.11903600000)     COAST -4.542845   \n",
       "2    MSAMBWENI  (-4.52158100000, 39.39792600000)     COAST -4.521581   \n",
       "3    MSAMBWENI  (-4.48936000000, 39.45773000000)     COAST -4.489360   \n",
       "4    MSAMBWENI  (-4.47627200000, 39.47484000000)     COAST -4.476272   \n",
       "\n",
       "         lon  \n",
       "0  39.184796  \n",
       "1  39.119036  \n",
       "2  39.397926  \n",
       "3  39.457730  \n",
       "4  39.474840  \n",
       "\n",
       "[5 rows x 33 columns]"
      ]
     },
     "execution_count": 68,
     "metadata": {},
     "output_type": "execute_result"
    }
   ],
   "source": [
    "print datadf.shape\n",
    "datadf.head()"
   ]
  },
  {
   "cell_type": "code",
   "execution_count": 14,
   "metadata": {
    "collapsed": false,
    "slideshow": {
     "slide_type": "subslide"
    }
   },
   "outputs": [
    {
     "name": "stdout",
     "output_type": "stream",
     "text": [
      "(10,)\n"
     ]
    },
    {
     "data": {
      "text/plain": [
       "array([nan, 'AY AND BOARDING ONLY', 'BOARDING', 'BOARDING ONLY', 'DAY',\n",
       "       'DAY & BOARDING', 'DAY AND BOAEDING', 'DAY AND BOARDING',\n",
       "       'DAY AND BOARDING ONLY', 'DAY ONLY'], dtype=object)"
      ]
     },
     "execution_count": 14,
     "metadata": {},
     "output_type": "execute_result"
    }
   ],
   "source": [
    "print datadf[u'Day or Boarding'].unique().shape\n",
    "np.sort(datadf[u'Day or Boarding'].unique()) "
   ]
  },
  {
   "cell_type": "code",
   "execution_count": 15,
   "metadata": {
    "collapsed": false,
    "slideshow": {
     "slide_type": "subslide"
    }
   },
   "outputs": [
    {
     "name": "stdout",
     "output_type": "stream",
     "text": [
      "(78,)\n"
     ]
    },
    {
     "data": {
      "text/plain": [
       "array(['BARINGO', 'BOMET', 'BONDO', 'BUNGOMA', 'BURETI', 'BUSIA',\n",
       "       'BUTERE/MUMIAS', 'CENTRAL KISII', 'DAGORETTI', 'EMBAKASI', 'EMBU',\n",
       "       'GARISSA', 'GUCHA', 'HOMA BAY', 'IJARA', 'ISIOLO', 'KAJIADO',\n",
       "       'KAKAMEGA', 'KASARANI', 'KEIYO', 'KERICHO', 'KIAMBU', 'KIBERA',\n",
       "       'KILIFI', 'KIRINYAGA', 'KISUMU', 'KITUI', 'KOIBATEK', 'KURIA',\n",
       "       'KWALE', 'LAIKIPIA', 'LAMU', 'LUGARI', 'MACHAKOS', 'MAKADARA',\n",
       "       'MAKUENI', 'MALINDI', 'MANDERA', 'MARAGUA', 'MARAKWET', 'MARSABIT',\n",
       "       'MBEERE', 'MERU CENTRAL', 'MERU NORTH', 'MERU SOUTH', 'MIGORI',\n",
       "       'MOMBASA', 'MOYALE', 'MT ELGON', 'MURANGA', 'MWINGI', 'NAKURU',\n",
       "       'NANDI NORTH', 'NANDI SOUTH', 'NAROK', 'NYAMIRA', 'NYANDARUA',\n",
       "       'NYANDO', 'NYERI', 'PUMWANI', 'RACHUONYO', 'SAMBURU', 'SIAYA',\n",
       "       'STAREHE', 'SUBA', 'TAITA TAVETA', 'TANA RIVER', 'TESO', 'THARAKA',\n",
       "       'THIKA', 'TRANS MARA', 'TRANS NZOIA', 'TURKANA', 'UASIN GISHU',\n",
       "       'VIHIGA', 'WAJIR', 'WEST POKOT', 'WESTLANDS'], dtype=object)"
      ]
     },
     "execution_count": 15,
     "metadata": {},
     "output_type": "execute_result"
    }
   ],
   "source": [
    "print datadf[\"District\"].unique().shape\n",
    "np.sort(datadf[\"District\"].unique())"
   ]
  },
  {
   "cell_type": "code",
   "execution_count": 16,
   "metadata": {
    "collapsed": false,
    "slideshow": {
     "slide_type": "subslide"
    }
   },
   "outputs": [
    {
     "name": "stdout",
     "output_type": "stream",
     "text": [
      "(2,)\n"
     ]
    },
    {
     "data": {
      "text/plain": [
       "array(['PRIVATE', 'PUBLIC'], dtype=object)"
      ]
     },
     "execution_count": 16,
     "metadata": {},
     "output_type": "execute_result"
    }
   ],
   "source": [
    "print datadf['Public or Private'].unique().shape\n",
    "np.sort(datadf['Public or Private'].unique())"
   ]
  },
  {
   "cell_type": "code",
   "execution_count": 17,
   "metadata": {
    "collapsed": false,
    "slideshow": {
     "slide_type": "subslide"
    }
   },
   "outputs": [
    {
     "name": "stdout",
     "output_type": "stream",
     "text": [
      "(19,)\n"
     ]
    },
    {
     "data": {
      "text/plain": [
       "array([nan, 'CENTRAL  GOVERNMENT/DEB', 'CENTRAL GORVERNMENT/DEB',\n",
       "       'CENTRAL GOVERNMENT', 'CENTRAL GOVERNMENT/DEB',\n",
       "       'CENTRAL GOVERNMET/DEB', 'COMMUNITY', 'GK PRISON ELDORET',\n",
       "       'LOCAL AUTHORITY', 'LOCAL GOVERNMENT AUTHORITY', 'M',\n",
       "       'MOI UNIVERSITY', 'NGO/CBO', 'OTHER', 'PRIVATE INDIVIDUAL',\n",
       "       'PRIVATE INDIVIDUAL/ORGANISATION',\n",
       "       'PRIVATE INDIVIDUAL/ORGANIZATION', 'RELIGIOUS ORGANISATION',\n",
       "       'RELIGIOUS ORGANIZATION'], dtype=object)"
      ]
     },
     "execution_count": 17,
     "metadata": {},
     "output_type": "execute_result"
    }
   ],
   "source": [
    "print datadf[u'School Sponsor'].unique().shape\n",
    "np.sort(datadf[u'School Sponsor'].unique())"
   ]
  },
  {
   "cell_type": "code",
   "execution_count": 18,
   "metadata": {
    "collapsed": false,
    "slideshow": {
     "slide_type": "subslide"
    }
   },
   "outputs": [
    {
     "name": "stdout",
     "output_type": "stream",
     "text": [
      "(4,)\n"
     ]
    },
    {
     "data": {
      "text/plain": [
       "array([nan, 'BOYS ONLY', 'GIRLS ONLY', 'MIXED'], dtype=object)"
      ]
     },
     "execution_count": 18,
     "metadata": {},
     "output_type": "execute_result"
    }
   ],
   "source": [
    "print datadf[u'Girls/Boys/Mixed'].unique().shape\n",
    "np.sort(datadf[u'Girls/Boys/Mixed'].unique()) "
   ]
  },
  {
   "cell_type": "markdown",
   "metadata": {
    "slideshow": {
     "slide_type": "slide"
    }
   },
   "source": [
    "### Some errors  we have identified in this data (inconsistency, incompleteness, inaccuracy)"
   ]
  },
  {
   "cell_type": "markdown",
   "metadata": {
    "collapsed": true,
    "slideshow": {
     "slide_type": "fragment"
    }
   },
   "source": [
    "* Missing values  - (u'Day or Boarding': nan) -incomplete\n",
    "* Typing errors on data entry - like (Day or Boarding: 'AY AND BOARDING ONLY')\n",
    "* Values that are not within the specified range for your variable \n",
    "* Inconsistancy in naming conversions - (Day or Boarding: Day vs Day Only)\n",
    "* Different representation ( 2 vs II vs two)\n",
    "\n"
   ]
  },
  {
   "cell_type": "code",
   "execution_count": 152,
   "metadata": {
    "collapsed": false
   },
   "outputs": [
    {
     "data": {
      "text/plain": [
       "array([nan, 'AY AND BOARDING ONLY', 'BOARDING', 'BOARDING ONLY', 'DAY',\n",
       "       'DAY & BOARDING', 'DAY AND BOAEDING', 'DAY AND BOARDING',\n",
       "       'DAY AND BOARDING ONLY', 'DAY ONLY'], dtype=object)"
      ]
     },
     "execution_count": 152,
     "metadata": {},
     "output_type": "execute_result"
    }
   ],
   "source": [
    "np.sort(datadf[u'Day or Boarding'].unique()) "
   ]
  },
  {
   "cell_type": "code",
   "execution_count": null,
   "metadata": {
    "collapsed": true
   },
   "outputs": [],
   "source": [
    "# function definition\n",
    "def correctColumnValues(SynDict,dataFrame, columnName):\n",
    "    for correctValue, synList in SynDict.items():\n",
    "        # # ['COMMUNITY', 'MOI UNIVERSITY', 'NGO/CBO', 'OTHER']\n",
    "        dataFrame[columnName].replace(synList,correctValue,inplace=True)\n",
    "    return dataFrame"
   ]
  },
  {
   "cell_type": "code",
   "execution_count": 156,
   "metadata": {
    "collapsed": false
   },
   "outputs": [
    {
     "data": {
      "text/plain": [
       "array([nan, 'BOARDING', 'DAY', 'DAY & BOARDING'], dtype=object)"
      ]
     },
     "execution_count": 156,
     "metadata": {},
     "output_type": "execute_result"
    }
   ],
   "source": [
    "SynDict ={'DAY & BOARDING': ['AY AND BOARDING ONLY','DAY & BOARDING', 'DAY AND BOAEDING', 'DAY AND BOARDING',\n",
    "       'DAY AND BOARDING ONLY'], \n",
    "          'BOARDING': ['BOARDING', 'BOARDING ONLY'], \n",
    "          'DAY': ['DAY','DAY ONLY']}\n",
    "\n",
    "datadf = correctColumnValues(SynDict,datadf, 'Day or Boarding')\n",
    "np.sort(datadf[u'Day or Boarding'].unique()) "
   ]
  },
  {
   "cell_type": "code",
   "execution_count": 157,
   "metadata": {
    "collapsed": false
   },
   "outputs": [
    {
     "data": {
      "text/plain": [
       "array(['BOARDING', 'DAY', 'DAY & BOARDING'], dtype=object)"
      ]
     },
     "execution_count": 157,
     "metadata": {},
     "output_type": "execute_result"
    }
   ],
   "source": [
    "# Drop all records with nan value in the column u'Day or Boarding'\n",
    "datadf[u'Day or Boarding'].dropna(inplace=True)\n",
    "# display the unique values in the column u'Day or Boarding'\n",
    "np.sort(datadf[u'Day or Boarding'].unique()) "
   ]
  },
  {
   "cell_type": "code",
   "execution_count": 160,
   "metadata": {
    "collapsed": false
   },
   "outputs": [
    {
     "data": {
      "text/plain": [
       "array(['CENTRAL  GOVERNMENT/DEB', 'CENTRAL GORVERNMENT/DEB',\n",
       "       'CENTRAL GOVERNMENT', 'CENTRAL GOVERNMENT/DEB',\n",
       "       'CENTRAL GOVERNMET/DEB', 'COMMUNITY', 'GK PRISON ELDORET',\n",
       "       'LOCAL AUTHORITY', 'LOCAL GOVERNMENT AUTHORITY', 'M',\n",
       "       'MOI UNIVERSITY', 'NGO/CBO', 'OTHER', 'PRIVATE INDIVIDUAL',\n",
       "       'PRIVATE INDIVIDUAL/ORGANISATION',\n",
       "       'PRIVATE INDIVIDUAL/ORGANIZATION', 'RELIGIOUS ORGANISATION',\n",
       "       'RELIGIOUS ORGANIZATION'], dtype=object)"
      ]
     },
     "execution_count": 160,
     "metadata": {},
     "output_type": "execute_result"
    }
   ],
   "source": [
    "np.sort(datadf[u'School Sponsor'].unique())"
   ]
  },
  {
   "cell_type": "markdown",
   "metadata": {
    "slideshow": {
     "slide_type": "slide"
    }
   },
   "source": [
    " ### Using descriptive statistics to detect errors"
   ]
  },
  {
   "cell_type": "code",
   "execution_count": 38,
   "metadata": {
    "collapsed": false,
    "slideshow": {
     "slide_type": "fragment"
    }
   },
   "outputs": [
    {
     "data": {
      "text/plain": [
       "count    6492.000000\n",
       "mean        2.491682\n",
       "std        12.884030\n",
       "min         0.000000\n",
       "25%         0.000000\n",
       "50%         0.000000\n",
       "75%         0.000000\n",
       "max       721.000000\n",
       "Name: Pupil Teacher Ratio, dtype: float64"
      ]
     },
     "execution_count": 38,
     "metadata": {},
     "output_type": "execute_result"
    }
   ],
   "source": [
    "datadf[u'Pupil Teacher Ratio'].describe()"
   ]
  },
  {
   "cell_type": "code",
   "execution_count": 39,
   "metadata": {
    "collapsed": false,
    "slideshow": {
     "slide_type": "subslide"
    }
   },
   "outputs": [
    {
     "data": {
      "text/html": [
       "<div>\n",
       "<table border=\"1\" class=\"dataframe\">\n",
       "  <thead>\n",
       "    <tr style=\"text-align: right;\">\n",
       "      <th></th>\n",
       "      <th>Total Enrolment 2007</th>\n",
       "      <th>Total Teaching staff</th>\n",
       "      <th>Pupil Teacher Ratio</th>\n",
       "    </tr>\n",
       "  </thead>\n",
       "  <tbody>\n",
       "    <tr>\n",
       "      <th>0</th>\n",
       "      <td>58</td>\n",
       "      <td>3</td>\n",
       "      <td>0</td>\n",
       "    </tr>\n",
       "    <tr>\n",
       "      <th>1</th>\n",
       "      <td>331</td>\n",
       "      <td>13</td>\n",
       "      <td>0</td>\n",
       "    </tr>\n",
       "    <tr>\n",
       "      <th>2</th>\n",
       "      <td>385</td>\n",
       "      <td>15</td>\n",
       "      <td>0</td>\n",
       "    </tr>\n",
       "    <tr>\n",
       "      <th>3</th>\n",
       "      <td>126</td>\n",
       "      <td>6</td>\n",
       "      <td>21</td>\n",
       "    </tr>\n",
       "    <tr>\n",
       "      <th>4</th>\n",
       "      <td>553</td>\n",
       "      <td>23</td>\n",
       "      <td>24</td>\n",
       "    </tr>\n",
       "  </tbody>\n",
       "</table>\n",
       "</div>"
      ],
      "text/plain": [
       "   Total Enrolment 2007  Total Teaching staff  Pupil Teacher Ratio\n",
       "0                    58                     3                    0\n",
       "1                   331                    13                    0\n",
       "2                   385                    15                    0\n",
       "3                   126                     6                   21\n",
       "4                   553                    23                   24"
      ]
     },
     "execution_count": 39,
     "metadata": {},
     "output_type": "execute_result"
    }
   ],
   "source": [
    "# looking at the sample data\n",
    "datadf[[u'Total Enrolment 2007',u'Total Teaching staff',u'Pupil Teacher Ratio']].head()"
   ]
  },
  {
   "cell_type": "code",
   "execution_count": 40,
   "metadata": {
    "collapsed": false,
    "slideshow": {
     "slide_type": "subslide"
    }
   },
   "outputs": [
    {
     "data": {
      "text/plain": [
       "count    6492.000000\n",
       "mean       11.318392\n",
       "std         9.002549\n",
       "min         0.000000\n",
       "25%         6.000000\n",
       "50%         9.000000\n",
       "75%        15.000000\n",
       "max        90.000000\n",
       "Name: Total Teaching staff, dtype: float64"
      ]
     },
     "execution_count": 40,
     "metadata": {},
     "output_type": "execute_result"
    }
   ],
   "source": [
    "datadf[u'Total Teaching staff'].describe()"
   ]
  },
  {
   "cell_type": "code",
   "execution_count": 41,
   "metadata": {
    "collapsed": false,
    "slideshow": {
     "slide_type": "subslide"
    }
   },
   "outputs": [
    {
     "data": {
      "text/plain": [
       "count    6492.000000\n",
       "mean      182.654960\n",
       "std       184.177469\n",
       "min         0.000000\n",
       "25%        51.000000\n",
       "50%       131.000000\n",
       "75%       254.000000\n",
       "max      1310.000000\n",
       "Name: Total Enrolment 2007, dtype: float64"
      ]
     },
     "execution_count": 41,
     "metadata": {},
     "output_type": "execute_result"
    }
   ],
   "source": [
    "datadf[u'Total Enrolment 2007'].describe()"
   ]
  },
  {
   "cell_type": "code",
   "execution_count": 43,
   "metadata": {
    "collapsed": false,
    "slideshow": {
     "slide_type": "subslide"
    }
   },
   "outputs": [
    {
     "data": {
      "text/plain": [
       "count    5892.000000\n",
       "mean      201.255261\n",
       "std       183.390824\n",
       "min         2.000000\n",
       "25%        75.000000\n",
       "50%       147.000000\n",
       "75%       272.000000\n",
       "max      1310.000000\n",
       "Name: Total Enrolment 2007, dtype: float64"
      ]
     },
     "execution_count": 43,
     "metadata": {},
     "output_type": "execute_result"
    }
   ],
   "source": [
    "# Lets remove the zero values\n",
    "datadf = datadf[datadf[u'Total Enrolment 2007']!=0]\n",
    "datadf[u'Total Enrolment 2007'].describe()"
   ]
  },
  {
   "cell_type": "code",
   "execution_count": 45,
   "metadata": {
    "collapsed": false
   },
   "outputs": [
    {
     "data": {
      "text/plain": [
       "count    5851.000000\n",
       "mean       15.393558\n",
       "std        13.835993\n",
       "min         0.272727\n",
       "25%        10.279221\n",
       "50%        15.000000\n",
       "75%        19.101724\n",
       "max       721.000000\n",
       "Name: Pupil Teacher Ratio, dtype: float64"
      ]
     },
     "execution_count": 45,
     "metadata": {},
     "output_type": "execute_result"
    }
   ],
   "source": [
    "#recalculating the pupil Teacher ratio\n",
    "datadf = datadf[datadf[u'Total Teaching staff']!=0]\n",
    "\n",
    "datadf[u'Pupil Teacher Ratio'] = datadf[u'Total Enrolment 2007']/datadf[u'Total Teaching staff']\n",
    "datadf[u'Pupil Teacher Ratio'].describe()"
   ]
  },
  {
   "cell_type": "code",
   "execution_count": 88,
   "metadata": {
    "collapsed": false
   },
   "outputs": [
    {
     "name": "stdout",
     "output_type": "stream",
     "text": [
      "          Code  Name of School  School Address Public or Private  \\\n",
      "1813  C2060041  KIUNYU SEC SCH  BOX 1962 THIKA            PUBLIC   \n",
      "\n",
      "              School Sponsor Girls/Boys/Mixed Day or Boarding  \\\n",
      "1813  RELIGIOUS ORGANIZATION            MIXED  DAY & BOARDING   \n",
      "\n",
      "     Ordinary or Special  Total Enrolment 2007  Total Teaching staff  \\\n",
      "1813            ORDINARY                     3                    11   \n",
      "\n",
      "        ...     Non Teaching Staff Female  Acreage  District  Division  \\\n",
      "1813    ...                             3        0     THIKA   GATANGA   \n",
      "\n",
      "        Location      Sublocation  School Zone  Costituency  \\\n",
      "1813  KIHUMBUINI  GITUAMBA/KIUNYU   KIHUMBUINI      GATANGA   \n",
      "\n",
      "                            Location 1  Province  \n",
      "1813  (-0.95055800000, 37.01731800000)   CENTRAL  \n",
      "\n",
      "[1 rows x 31 columns]\n"
     ]
    }
   ],
   "source": [
    "print datadf[datadf[u'Pupil Teacher Ratio']==datadf[u'Pupil Teacher Ratio'].min()]"
   ]
  },
  {
   "cell_type": "code",
   "execution_count": 53,
   "metadata": {
    "collapsed": false,
    "slideshow": {
     "slide_type": "subslide"
    }
   },
   "outputs": [
    {
     "data": {
      "text/plain": [
       "<matplotlib.axes._subplots.AxesSubplot at 0x123246cd0>"
      ]
     },
     "execution_count": 53,
     "metadata": {},
     "output_type": "execute_result"
    },
    {
     "data": {
      "image/png": "[encoded data removed]",
      "text/plain": [
       "<matplotlib.figure.Figure at 0x12330a190>"
      ]
     },
     "metadata": {},
     "output_type": "display_data"
    }
   ],
   "source": [
    "datadf[u'Total Enrolment 2007'].plot(kind='box')"
   ]
  },
  {
   "cell_type": "code",
   "execution_count": 46,
   "metadata": {
    "collapsed": false
   },
   "outputs": [
    {
     "data": {
      "text/plain": [
       "<matplotlib.axes._subplots.AxesSubplot at 0x1235f6390>"
      ]
     },
     "execution_count": 46,
     "metadata": {},
     "output_type": "execute_result"
    },
    {
     "data": {
      "image/png": "[encoded data removed]",
      "text/plain": [
       "<matplotlib.figure.Figure at 0x1234d29d0>"
      ]
     },
     "metadata": {},
     "output_type": "display_data"
    }
   ],
   "source": [
    "datadf[u'Pupil Teacher Ratio'].plot(kind='box')"
   ]
  },
  {
   "cell_type": "markdown",
   "metadata": {
    "slideshow": {
     "slide_type": "slide"
    }
   },
   "source": [
    "# Bivariate Outliers"
   ]
  },
  {
   "cell_type": "code",
   "execution_count": 54,
   "metadata": {
    "collapsed": false,
    "slideshow": {
     "slide_type": "fragment"
    }
   },
   "outputs": [
    {
     "data": {
      "text/plain": [
       "<matplotlib.axes._subplots.AxesSubplot at 0x123235d50>"
      ]
     },
     "execution_count": 54,
     "metadata": {},
     "output_type": "execute_result"
    },
    {
     "data": {
      "image/png": "[encoded data removed]",
      "text/plain": [
       "<matplotlib.figure.Figure at 0x1235e9990>"
      ]
     },
     "metadata": {},
     "output_type": "display_data"
    }
   ],
   "source": [
    "#outliers - one in particular which do not fall into the general pattern of association between the variables.\n",
    "datadf.plot(x=u'Total Enrolment 2007',y=u'Total Teaching staff',kind='scatter',figsize=(10,8),xlim=[0,1400], ylim=[0,100])"
   ]
  },
  {
   "cell_type": "code",
   "execution_count": null,
   "metadata": {
    "collapsed": true
   },
   "outputs": [],
   "source": [
    "Don't be quick to reject data as an outlier'"
   ]
  },
  {
   "cell_type": "markdown",
   "metadata": {
    "slideshow": {
     "slide_type": "slide"
    }
   },
   "source": [
    "# Understanding the spatial data"
   ]
  },
  {
   "cell_type": "code",
   "execution_count": 69,
   "metadata": {
    "collapsed": false,
    "slideshow": {
     "slide_type": "fragment"
    }
   },
   "outputs": [
    {
     "name": "stdout",
     "output_type": "stream",
     "text": [
      "Index([u'Code', u'Name of School', u'School Address', u'Public or Private',\n",
      "       u'School Sponsor', u'Girls/Boys/Mixed', u'Day or Boarding',\n",
      "       u'Ordinary or Special', u'Total Enrolment 2007',\n",
      "       u'Total Teaching staff', u'Pupil Teacher Ratio',\n",
      "       u'Acreage per enrolment', u'TSC Male Teachers', u'TSC Female Teachers',\n",
      "       u'Local Authority Male Teachers', u'Local Authority Female Teachers',\n",
      "       u'PTA Board of Governors Male Teacher',\n",
      "       u'PTA Board of Governors Female Teacher', u'Other Male Teachers',\n",
      "       u'Other Female Teachers', u'Non Teaching Staff Male',\n",
      "       u'Non Teaching Staff Female', u'Acreage', u'District', u'Division',\n",
      "       u'Location', u'Sublocation', u'School Zone', u'Costituency',\n",
      "       u'Location 1', u'Province', u'lat', u'lon'],\n",
      "      dtype='object')\n"
     ]
    }
   ],
   "source": [
    "print datadf.columns"
   ]
  },
  {
   "cell_type": "code",
   "execution_count": 5,
   "metadata": {
    "collapsed": false,
    "slideshow": {
     "slide_type": "subslide"
    }
   },
   "outputs": [
    {
     "data": {
      "text/html": [
       "<table><tr><td colspan=2> Before 2013</td><td colspan=2>After 2013</td></tr><tr><td>Level</td><td>No.</td><td>Level</td><td>No.</td></tr><tr><td>Provinces</td><td>8</td><td>County</td><td>47</td></tr><tr><td>Districts</td><td></td><td>Subcounty</td><td></td></tr><tr><td>Divisions</td><td></td><td>Divisions</td><td></td></tr><tr><td>Locations</td><td></td><td>Locations</td><td></td></tr><tr><td>Sub locations</td><td></td><td>sub locations</td><td></td></tr></table>"
      ],
      "text/plain": [
       "<IPython.core.display.HTML object>"
      ]
     },
     "metadata": {},
     "output_type": "display_data"
    }
   ],
   "source": [
    "from IPython.core.display import display, HTML\n",
    "display(HTML('<table><tr><td colspan=2> Before 2013</td><td colspan=2>After 2013</td></tr><tr><td>Level</td><td>No.</td><td>Level</td><td>No.</td></tr><tr><td>Provinces</td><td>8</td><td>County</td><td>47</td></tr><tr><td>Districts</td><td></td><td>Subcounty</td><td></td></tr><tr><td>Divisions</td><td></td><td>Divisions</td><td></td></tr><tr><td>Locations</td><td></td><td>Locations</td><td></td></tr><tr><td>Sub locations</td><td></td><td>sub locations</td><td></td></tr></table>'))"
   ]
  },
  {
   "cell_type": "code",
   "execution_count": 70,
   "metadata": {
    "collapsed": false,
    "slideshow": {
     "slide_type": "subslide"
    }
   },
   "outputs": [
    {
     "name": "stdout",
     "output_type": "stream",
     "text": [
      "0    (-4.64303800000, 39.18479600000)\n",
      "1    (-4.54284500000, 39.11903600000)\n",
      "2    (-4.52158100000, 39.39792600000)\n",
      "3    (-4.48936000000, 39.45773000000)\n",
      "4    (-4.47627200000, 39.47484000000)\n",
      "Name: Location 1, dtype: object\n"
     ]
    }
   ],
   "source": [
    "print datadf['Location 1'].head(5)"
   ]
  },
  {
   "cell_type": "code",
   "execution_count": 62,
   "metadata": {
    "collapsed": false,
    "slideshow": {
     "slide_type": "subslide"
    }
   },
   "outputs": [
    {
     "data": {
      "text/plain": [
       "Index([u'Code', u'Name of School', u'School Address', u'Public or Private',\n",
       "       u'School Sponsor', u'Girls/Boys/Mixed', u'Day or Boarding',\n",
       "       u'Ordinary or Special', u'Total Enrolment 2007',\n",
       "       u'Total Teaching staff', u'Pupil Teacher Ratio',\n",
       "       u'Acreage per enrolment', u'TSC Male Teachers', u'TSC Female Teachers',\n",
       "       u'Local Authority Male Teachers', u'Local Authority Female Teachers',\n",
       "       u'PTA Board of Governors Male Teacher',\n",
       "       u'PTA Board of Governors Female Teacher', u'Other Male Teachers',\n",
       "       u'Other Female Teachers', u'Non Teaching Staff Male',\n",
       "       u'Non Teaching Staff Female', u'Acreage', u'District', u'Division',\n",
       "       u'Location', u'Sublocation', u'School Zone', u'Costituency',\n",
       "       u'Location 1', u'Province', u'lat', u'lon'],\n",
       "      dtype='object')"
      ]
     },
     "execution_count": 62,
     "metadata": {},
     "output_type": "execute_result"
    }
   ],
   "source": [
    "def coord2Lat(row):\n",
    "    return float(row['Location 1'].split(',')[0][1:])\n",
    "            \n",
    "def coord2Lon(row):\n",
    "    return float(row['Location 1'].split(',')[1].strip(\" \")[:-1])\n",
    "    \n",
    "datadf['lat']=datadf.apply(coord2Lat, axis=1)\n",
    "datadf['lon']=datadf.apply(coord2Lon, axis=1)\n",
    "datadf.columns"
   ]
  },
  {
   "cell_type": "code",
   "execution_count": 20,
   "metadata": {
    "collapsed": false,
    "slideshow": {
     "slide_type": "subslide"
    }
   },
   "outputs": [
    {
     "data": {
      "text/plain": [
       "<matplotlib.axes._subplots.AxesSubplot at 0x116625110>"
      ]
     },
     "execution_count": 20,
     "metadata": {},
     "output_type": "execute_result"
    },
    {
     "data": {
      "image/png": "[encoded data removed]",
      "text/plain": [
       "<matplotlib.figure.Figure at 0x116e557d0>"
      ]
     },
     "metadata": {},
     "output_type": "display_data"
    }
   ],
   "source": [
    "import geopandas as gp\n",
    "\n",
    "filename=\"../data/KenyaCounties/County.shp\"\n",
    "# read the shapefile\n",
    "counties_gdf = gp.GeoDataFrame.from_file(filename)\n",
    "# plot shapefile \n",
    "counties_gdf.plot(color='white', figsize=(8,6))"
   ]
  },
  {
   "cell_type": "code",
   "execution_count": 32,
   "metadata": {
    "collapsed": false
   },
   "outputs": [
    {
     "data": {
      "image/png": "[encoded data removed]",
      "text/plain": [
       "<matplotlib.figure.Figure at 0x11ecd5fd0>"
      ]
     },
     "metadata": {},
     "output_type": "display_data"
    }
   ],
   "source": [
    "from shapely.geometry import Point\n",
    "geometry = [Point(xy) for xy in zip(datadf.lon, datadf.lat)]\n",
    "#change pandas to geopandas\n",
    "schgdf=gp.GeoDataFrame(datadf,crs=counties_gdf.crs, geometry=geometry)\n",
    "\n",
    "base = counties_gdf.plot(color='white',figsize=(8,8))\n",
    "schgdf.plot(ax=base, marker='.', color='green', markersize=8,alpha=0.5);"
   ]
  },
  {
   "cell_type": "markdown",
   "metadata": {},
   "source": [
    "### Read data datafile with county information added\n"
   ]
  },
  {
   "cell_type": "code",
   "execution_count": 172,
   "metadata": {
    "collapsed": false
   },
   "outputs": [
    {
     "name": "stdout",
     "output_type": "stream",
     "text": [
      "(5835, 19)\n"
     ]
    },
    {
     "data": {
      "text/plain": [
       "Index([u'Code', u'name', u'ownership', u'sponsor', u'composition', u'nature',\n",
       "       u'enrolment2007', u'nTeachers', u'pupil2TeacherRatio', u'District',\n",
       "       u'Division', u'Location', u'Sublocation', u'Costituency', u'Province',\n",
       "       u'coordinates', u'lat', u'lon', u'county'],\n",
       "      dtype='object')"
      ]
     },
     "execution_count": 172,
     "metadata": {},
     "output_type": "execute_result"
    }
   ],
   "source": [
    "dataWithCountydf=pd.read_csv('../data/cleanSecondarySchoolsWithCounty.csv',index_col=0)\n",
    "print dataWithCountydf.shape\n",
    "dataWithCountydf.columns"
   ]
  },
  {
   "cell_type": "code",
   "execution_count": 173,
   "metadata": {
    "collapsed": false
   },
   "outputs": [
    {
     "data": {
      "text/html": [
       "<div>\n",
       "<table border=\"1\" class=\"dataframe\">\n",
       "  <thead>\n",
       "    <tr>\n",
       "      <th></th>\n",
       "      <th>mean</th>\n",
       "    </tr>\n",
       "    <tr>\n",
       "      <th></th>\n",
       "      <th>pupil2TeacherRatio</th>\n",
       "    </tr>\n",
       "    <tr>\n",
       "      <th>county</th>\n",
       "      <th></th>\n",
       "    </tr>\n",
       "  </thead>\n",
       "  <tbody>\n",
       "    <tr>\n",
       "      <th>Baringo</th>\n",
       "      <td>13.860863</td>\n",
       "    </tr>\n",
       "    <tr>\n",
       "      <th>Bomet</th>\n",
       "      <td>15.763741</td>\n",
       "    </tr>\n",
       "    <tr>\n",
       "      <th>Bungoma</th>\n",
       "      <td>15.064072</td>\n",
       "    </tr>\n",
       "    <tr>\n",
       "      <th>Busia</th>\n",
       "      <td>13.984906</td>\n",
       "    </tr>\n",
       "    <tr>\n",
       "      <th>Embu</th>\n",
       "      <td>14.038653</td>\n",
       "    </tr>\n",
       "  </tbody>\n",
       "</table>\n",
       "</div>"
      ],
      "text/plain": [
       "                      mean\n",
       "        pupil2TeacherRatio\n",
       "county                    \n",
       "Baringo          13.860863\n",
       "Bomet            15.763741\n",
       "Bungoma          15.064072\n",
       "Busia            13.984906\n",
       "Embu             14.038653"
      ]
     },
     "execution_count": 173,
     "metadata": {},
     "output_type": "execute_result"
    }
   ],
   "source": [
    "pupil2TeacherRatio_df = dataWithCountydf.pivot_table(index='county', values=['pupil2TeacherRatio'], aggfunc=[np.mean])\n",
    "pupil2TeacherRatio_df.head()"
   ]
  },
  {
   "cell_type": "code",
   "execution_count": 174,
   "metadata": {
    "collapsed": false
   },
   "outputs": [
    {
     "data": {
      "text/html": [
       "<div>\n",
       "<table border=\"1\" class=\"dataframe\">\n",
       "  <thead>\n",
       "    <tr style=\"text-align: right;\">\n",
       "      <th></th>\n",
       "      <th>county</th>\n",
       "      <th>pupil2TeacherRatio</th>\n",
       "    </tr>\n",
       "  </thead>\n",
       "  <tbody>\n",
       "    <tr>\n",
       "      <th>0</th>\n",
       "      <td>Baringo</td>\n",
       "      <td>13.860863</td>\n",
       "    </tr>\n",
       "    <tr>\n",
       "      <th>1</th>\n",
       "      <td>Bomet</td>\n",
       "      <td>15.763741</td>\n",
       "    </tr>\n",
       "    <tr>\n",
       "      <th>2</th>\n",
       "      <td>Bungoma</td>\n",
       "      <td>15.064072</td>\n",
       "    </tr>\n",
       "    <tr>\n",
       "      <th>3</th>\n",
       "      <td>Busia</td>\n",
       "      <td>13.984906</td>\n",
       "    </tr>\n",
       "    <tr>\n",
       "      <th>4</th>\n",
       "      <td>Embu</td>\n",
       "      <td>14.038653</td>\n",
       "    </tr>\n",
       "  </tbody>\n",
       "</table>\n",
       "</div>"
      ],
      "text/plain": [
       "    county  pupil2TeacherRatio\n",
       "0  Baringo           13.860863\n",
       "1    Bomet           15.763741\n",
       "2  Bungoma           15.064072\n",
       "3    Busia           13.984906\n",
       "4     Embu           14.038653"
      ]
     },
     "execution_count": 174,
     "metadata": {},
     "output_type": "execute_result"
    }
   ],
   "source": [
    "# df.index = df.index.droplevel(2)\n",
    "pupil2TeacherRatio_df.reset_index(inplace=True)\n",
    "# pupil2TeacherRatio_df.index.droplevel(2)\n",
    "\n",
    "pupil2TeacherRatio_df.columns = pupil2TeacherRatio_df.columns.droplevel(1)\n",
    "pupil2TeacherRatio_df.rename(columns={'mean':'pupil2TeacherRatio'}, inplace=True)\n",
    "pupil2TeacherRatio_df.head()"
   ]
  },
  {
   "cell_type": "markdown",
   "metadata": {
    "slideshow": {
     "slide_type": "slide"
    }
   },
   "source": [
    "# Plot the results in a choropleth map"
   ]
  },
  {
   "cell_type": "code",
   "execution_count": 175,
   "metadata": {
    "collapsed": false,
    "slideshow": {
     "slide_type": "fragment"
    }
   },
   "outputs": [
    {
     "data": {
      "text/html": [
       "<div>\n",
       "<table border=\"1\" class=\"dataframe\">\n",
       "  <thead>\n",
       "    <tr style=\"text-align: right;\">\n",
       "      <th></th>\n",
       "      <th>AREA</th>\n",
       "      <th>COUNTY</th>\n",
       "      <th>COUNTY3_</th>\n",
       "      <th>COUNTY3_ID</th>\n",
       "      <th>OBJECTID</th>\n",
       "      <th>PERIMETER</th>\n",
       "      <th>Shape_Area</th>\n",
       "      <th>Shape_Leng</th>\n",
       "      <th>geometry</th>\n",
       "    </tr>\n",
       "  </thead>\n",
       "  <tbody>\n",
       "    <tr>\n",
       "      <th>0</th>\n",
       "      <td>5.677</td>\n",
       "      <td>Turkana</td>\n",
       "      <td>2</td>\n",
       "      <td>1</td>\n",
       "      <td>1</td>\n",
       "      <td>15.047</td>\n",
       "      <td>5.676985</td>\n",
       "      <td>15.046838</td>\n",
       "      <td>POLYGON ((35.79592513993344 5.344485759410418,...</td>\n",
       "    </tr>\n",
       "    <tr>\n",
       "      <th>1</th>\n",
       "      <td>6.177</td>\n",
       "      <td>Marsabit</td>\n",
       "      <td>3</td>\n",
       "      <td>2</td>\n",
       "      <td>2</td>\n",
       "      <td>11.974</td>\n",
       "      <td>6.176831</td>\n",
       "      <td>11.974165</td>\n",
       "      <td>POLYGON ((36.05060958836197 4.456217766237103,...</td>\n",
       "    </tr>\n",
       "  </tbody>\n",
       "</table>\n",
       "</div>"
      ],
      "text/plain": [
       "    AREA    COUNTY  COUNTY3_  COUNTY3_ID  OBJECTID  PERIMETER  Shape_Area  \\\n",
       "0  5.677   Turkana         2           1         1     15.047    5.676985   \n",
       "1  6.177  Marsabit         3           2         2     11.974    6.176831   \n",
       "\n",
       "   Shape_Leng                                           geometry  \n",
       "0   15.046838  POLYGON ((35.79592513993344 5.344485759410418,...  \n",
       "1   11.974165  POLYGON ((36.05060958836197 4.456217766237103,...  "
      ]
     },
     "execution_count": 175,
     "metadata": {},
     "output_type": "execute_result"
    }
   ],
   "source": [
    "counties_gdf.head(2)"
   ]
  },
  {
   "cell_type": "code",
   "execution_count": 176,
   "metadata": {
    "collapsed": false,
    "slideshow": {
     "slide_type": "fragment"
    }
   },
   "outputs": [
    {
     "data": {
      "text/html": [
       "<div>\n",
       "<table border=\"1\" class=\"dataframe\">\n",
       "  <thead>\n",
       "    <tr style=\"text-align: right;\">\n",
       "      <th></th>\n",
       "      <th>AREA</th>\n",
       "      <th>COUNTY</th>\n",
       "      <th>COUNTY3_</th>\n",
       "      <th>COUNTY3_ID</th>\n",
       "      <th>OBJECTID</th>\n",
       "      <th>PERIMETER</th>\n",
       "      <th>Shape_Area</th>\n",
       "      <th>Shape_Leng</th>\n",
       "      <th>geometry</th>\n",
       "      <th>county</th>\n",
       "      <th>pupil2TeacherRatio</th>\n",
       "    </tr>\n",
       "  </thead>\n",
       "  <tbody>\n",
       "    <tr>\n",
       "      <th>0</th>\n",
       "      <td>5.677</td>\n",
       "      <td>Turkana</td>\n",
       "      <td>2</td>\n",
       "      <td>1</td>\n",
       "      <td>1</td>\n",
       "      <td>15.047</td>\n",
       "      <td>5.676985</td>\n",
       "      <td>15.046838</td>\n",
       "      <td>POLYGON ((35.79592513993344 5.344485759410418,...</td>\n",
       "      <td>Turkana</td>\n",
       "      <td>18.487022</td>\n",
       "    </tr>\n",
       "    <tr>\n",
       "      <th>1</th>\n",
       "      <td>6.177</td>\n",
       "      <td>Marsabit</td>\n",
       "      <td>3</td>\n",
       "      <td>2</td>\n",
       "      <td>2</td>\n",
       "      <td>11.974</td>\n",
       "      <td>6.176831</td>\n",
       "      <td>11.974165</td>\n",
       "      <td>POLYGON ((36.05060958836197 4.456217766237103,...</td>\n",
       "      <td>Marsabit</td>\n",
       "      <td>14.070705</td>\n",
       "    </tr>\n",
       "  </tbody>\n",
       "</table>\n",
       "</div>"
      ],
      "text/plain": [
       "    AREA    COUNTY  COUNTY3_  COUNTY3_ID  OBJECTID  PERIMETER  Shape_Area  \\\n",
       "0  5.677   Turkana         2           1         1     15.047    5.676985   \n",
       "1  6.177  Marsabit         3           2         2     11.974    6.176831   \n",
       "\n",
       "   Shape_Leng                                           geometry    county  \\\n",
       "0   15.046838  POLYGON ((35.79592513993344 5.344485759410418,...   Turkana   \n",
       "1   11.974165  POLYGON ((36.05060958836197 4.456217766237103,...  Marsabit   \n",
       "\n",
       "   pupil2TeacherRatio  \n",
       "0           18.487022  \n",
       "1           14.070705  "
      ]
     },
     "execution_count": 176,
     "metadata": {},
     "output_type": "execute_result"
    }
   ],
   "source": [
    "PTR_gdf = counties_gdf.merge(pupil2TeacherRatio_df, left_on='COUNTY',right_on='county',how='outer')\n",
    "PTR_gdf.head(2)"
   ]
  },
  {
   "cell_type": "code",
   "execution_count": 177,
   "metadata": {
    "collapsed": false
   },
   "outputs": [
    {
     "data": {
      "image/png": "[encoded data removed]",
      "text/plain": [
       "<matplotlib.figure.Figure at 0x1250bf8d0>"
      ]
     },
     "metadata": {},
     "output_type": "display_data"
    }
   ],
   "source": [
    "import pysal # for scheme to work\n",
    "# f,ax =plt.subplots(1,figsize=(20,16))\n",
    "kw = dict(column='pupil2TeacherRatio', k=6, colormap='OrRd',legend=True)\n",
    "base = PTR_gdf.plot(scheme='Quantiles',figsize=(10,8), **kw)"
   ]
  },
  {
   "cell_type": "code",
   "execution_count": 178,
   "metadata": {
    "collapsed": true
   },
   "outputs": [],
   "source": [
    "PTR_gdf.plot?"
   ]
  },
  {
   "cell_type": "markdown",
   "metadata": {
    "slideshow": {
     "slide_type": "slide"
    }
   },
   "source": [
    "## Results data"
   ]
  },
  {
   "cell_type": "code",
   "execution_count": 181,
   "metadata": {
    "collapsed": false
   },
   "outputs": [
    {
     "name": "stdout",
     "output_type": "stream",
     "text": [
      "(273867, 11)\n"
     ]
    },
    {
     "data": {
      "text/plain": [
       "Index([u'Year', u'District code', u'District Name ', u'County', u'School Code',\n",
       "       u'KNEC Code', u'School Name', u'Gender', u'Grade attained',\n",
       "       u'Mean Grade', u'Frequency'],\n",
       "      dtype='object')"
      ]
     },
     "execution_count": 181,
     "metadata": {},
     "output_type": "execute_result"
    }
   ],
   "source": [
    "resultsdf=pd.read_csv('../data/KCSE_Exam_Results_2006_to_2010.csv')\n",
    "print resultsdf.shape\n",
    "resultsdf.columns"
   ]
  },
  {
   "cell_type": "code",
   "execution_count": null,
   "metadata": {
    "collapsed": true
   },
   "outputs": [],
   "source": [
    "Using a histogram (frequencies, logic checks - is the value logical- 0.277 )\n",
    "Biological and social variables are expected to be fairly distributed normally \n",
    "* (68% of the population lies within one standard deviation of its mean of zero\n",
    "* 95% of the population lies within two standard deviations of 0\n",
    "* 99.5%  lies within three standard deviations of 0\n",
    "   \n",
    "It should not have two phases or humps"
   ]
  },
  {
   "cell_type": "code",
   "execution_count": 182,
   "metadata": {
    "collapsed": false
   },
   "outputs": [
    {
     "data": {
      "text/html": [
       "<div>\n",
       "<table border=\"1\" class=\"dataframe\">\n",
       "  <thead>\n",
       "    <tr style=\"text-align: right;\">\n",
       "      <th></th>\n",
       "      <th>Year</th>\n",
       "      <th>District code</th>\n",
       "      <th>District Name</th>\n",
       "      <th>County</th>\n",
       "      <th>School Code</th>\n",
       "      <th>KNEC Code</th>\n",
       "      <th>School Name</th>\n",
       "      <th>Gender</th>\n",
       "      <th>Grade attained</th>\n",
       "      <th>Mean Grade</th>\n",
       "      <th>Frequency</th>\n",
       "    </tr>\n",
       "  </thead>\n",
       "  <tbody>\n",
       "    <tr>\n",
       "      <th>0</th>\n",
       "      <td>2006</td>\n",
       "      <td>* 101</td>\n",
       "      <td>TAITA</td>\n",
       "      <td>Taita Taveta</td>\n",
       "      <td>101</td>\n",
       "      <td>101101</td>\n",
       "      <td>DR. AGGREY HIGH SCHOOL</td>\n",
       "      <td>M</td>\n",
       "      <td>A-</td>\n",
       "      <td>11</td>\n",
       "      <td>3</td>\n",
       "    </tr>\n",
       "    <tr>\n",
       "      <th>1</th>\n",
       "      <td>2006</td>\n",
       "      <td>* 101</td>\n",
       "      <td>TAITA</td>\n",
       "      <td>Taita Taveta</td>\n",
       "      <td>101</td>\n",
       "      <td>101101</td>\n",
       "      <td>DR. AGGREY HIGH SCHOOL</td>\n",
       "      <td>M</td>\n",
       "      <td>B+</td>\n",
       "      <td>8</td>\n",
       "      <td>2</td>\n",
       "    </tr>\n",
       "    <tr>\n",
       "      <th>2</th>\n",
       "      <td>2006</td>\n",
       "      <td>* 101</td>\n",
       "      <td>TAITA</td>\n",
       "      <td>Taita Taveta</td>\n",
       "      <td>101</td>\n",
       "      <td>101101</td>\n",
       "      <td>DR. AGGREY HIGH SCHOOL</td>\n",
       "      <td>M</td>\n",
       "      <td>B</td>\n",
       "      <td>10</td>\n",
       "      <td>4</td>\n",
       "    </tr>\n",
       "    <tr>\n",
       "      <th>3</th>\n",
       "      <td>2006</td>\n",
       "      <td>* 101</td>\n",
       "      <td>TAITA</td>\n",
       "      <td>Taita Taveta</td>\n",
       "      <td>101</td>\n",
       "      <td>101101</td>\n",
       "      <td>DR. AGGREY HIGH SCHOOL</td>\n",
       "      <td>M</td>\n",
       "      <td>B-</td>\n",
       "      <td>9</td>\n",
       "      <td>15</td>\n",
       "    </tr>\n",
       "    <tr>\n",
       "      <th>4</th>\n",
       "      <td>2006</td>\n",
       "      <td>* 101</td>\n",
       "      <td>TAITA</td>\n",
       "      <td>Taita Taveta</td>\n",
       "      <td>101</td>\n",
       "      <td>101101</td>\n",
       "      <td>DR. AGGREY HIGH SCHOOL</td>\n",
       "      <td>M</td>\n",
       "      <td>C+</td>\n",
       "      <td>7</td>\n",
       "      <td>32</td>\n",
       "    </tr>\n",
       "  </tbody>\n",
       "</table>\n",
       "</div>"
      ],
      "text/plain": [
       "   Year District code District Name         County School Code KNEC Code  \\\n",
       "0  2006         * 101          TAITA  Taita Taveta         101    101101   \n",
       "1  2006         * 101          TAITA  Taita Taveta         101    101101   \n",
       "2  2006         * 101          TAITA  Taita Taveta         101    101101   \n",
       "3  2006         * 101          TAITA  Taita Taveta         101    101101   \n",
       "4  2006         * 101          TAITA  Taita Taveta         101    101101   \n",
       "\n",
       "              School Name Gender Grade attained  Mean Grade  Frequency  \n",
       "0  DR. AGGREY HIGH SCHOOL      M             A-          11          3  \n",
       "1  DR. AGGREY HIGH SCHOOL      M             B+           8          2  \n",
       "2  DR. AGGREY HIGH SCHOOL      M              B          10          4  \n",
       "3  DR. AGGREY HIGH SCHOOL      M             B-           9         15  \n",
       "4  DR. AGGREY HIGH SCHOOL      M             C+           7         32  "
      ]
     },
     "execution_count": 182,
     "metadata": {},
     "output_type": "execute_result"
    }
   ],
   "source": [
    "resultsdf.head()"
   ]
  },
  {
   "cell_type": "code",
   "execution_count": 203,
   "metadata": {
    "collapsed": false
   },
   "outputs": [
    {
     "data": {
      "text/html": [
       "<div>\n",
       "<table border=\"1\" class=\"dataframe\">\n",
       "  <thead>\n",
       "    <tr>\n",
       "      <th></th>\n",
       "      <th></th>\n",
       "      <th colspan=\"2\" halign=\"left\">Frequency</th>\n",
       "    </tr>\n",
       "    <tr>\n",
       "      <th></th>\n",
       "      <th>Gender</th>\n",
       "      <th>F</th>\n",
       "      <th>M</th>\n",
       "    </tr>\n",
       "    <tr>\n",
       "      <th>Year</th>\n",
       "      <th>County</th>\n",
       "      <th></th>\n",
       "      <th></th>\n",
       "    </tr>\n",
       "  </thead>\n",
       "  <tbody>\n",
       "    <tr>\n",
       "      <th rowspan=\"5\" valign=\"top\">2006</th>\n",
       "      <th>Baringo</th>\n",
       "      <td>274</td>\n",
       "      <td>318</td>\n",
       "    </tr>\n",
       "    <tr>\n",
       "      <th>Bomet</th>\n",
       "      <td>647</td>\n",
       "      <td>720</td>\n",
       "    </tr>\n",
       "    <tr>\n",
       "      <th>Bungoma</th>\n",
       "      <td>828</td>\n",
       "      <td>957</td>\n",
       "    </tr>\n",
       "    <tr>\n",
       "      <th>Busia</th>\n",
       "      <td>216</td>\n",
       "      <td>282</td>\n",
       "    </tr>\n",
       "    <tr>\n",
       "      <th>Elgeyo Marakwet</th>\n",
       "      <td>262</td>\n",
       "      <td>268</td>\n",
       "    </tr>\n",
       "  </tbody>\n",
       "</table>\n",
       "</div>"
      ],
      "text/plain": [
       "                     Frequency     \n",
       "Gender                       F    M\n",
       "Year County                        \n",
       "2006 Baringo               274  318\n",
       "     Bomet                 647  720\n",
       "     Bungoma               828  957\n",
       "     Busia                 216  282\n",
       "     Elgeyo Marakwet       262  268"
      ]
     },
     "execution_count": 203,
     "metadata": {},
     "output_type": "execute_result"
    }
   ],
   "source": [
    "genderYeardf = resultsdf.pivot_table(index=['Year','County',],columns='Gender',values=['Frequency'],aggfunc=len)\n",
    "genderYeardf.head()"
   ]
  },
  {
   "cell_type": "code",
   "execution_count": 206,
   "metadata": {
    "collapsed": false
   },
   "outputs": [
    {
     "data": {
      "text/html": [
       "<div>\n",
       "<table border=\"1\" class=\"dataframe\">\n",
       "  <thead>\n",
       "    <tr>\n",
       "      <th></th>\n",
       "      <th colspan=\"10\" halign=\"left\">Frequency</th>\n",
       "    </tr>\n",
       "    <tr>\n",
       "      <th>Gender</th>\n",
       "      <th colspan=\"5\" halign=\"left\">F</th>\n",
       "      <th colspan=\"5\" halign=\"left\">M</th>\n",
       "    </tr>\n",
       "    <tr>\n",
       "      <th>Year</th>\n",
       "      <th>2006</th>\n",
       "      <th>2007</th>\n",
       "      <th>2008</th>\n",
       "      <th>2009</th>\n",
       "      <th>2010</th>\n",
       "      <th>2006</th>\n",
       "      <th>2007</th>\n",
       "      <th>2008</th>\n",
       "      <th>2009</th>\n",
       "      <th>2010</th>\n",
       "    </tr>\n",
       "    <tr>\n",
       "      <th>County</th>\n",
       "      <th></th>\n",
       "      <th></th>\n",
       "      <th></th>\n",
       "      <th></th>\n",
       "      <th></th>\n",
       "      <th></th>\n",
       "      <th></th>\n",
       "      <th></th>\n",
       "      <th></th>\n",
       "      <th></th>\n",
       "    </tr>\n",
       "  </thead>\n",
       "  <tbody>\n",
       "    <tr>\n",
       "      <th>0</th>\n",
       "      <td>NaN</td>\n",
       "      <td>NaN</td>\n",
       "      <td>NaN</td>\n",
       "      <td>NaN</td>\n",
       "      <td>2</td>\n",
       "      <td>NaN</td>\n",
       "      <td>NaN</td>\n",
       "      <td>NaN</td>\n",
       "      <td>NaN</td>\n",
       "      <td>4</td>\n",
       "    </tr>\n",
       "    <tr>\n",
       "      <th>Baringo</th>\n",
       "      <td>274</td>\n",
       "      <td>306</td>\n",
       "      <td>375</td>\n",
       "      <td>411</td>\n",
       "      <td>435</td>\n",
       "      <td>318</td>\n",
       "      <td>354</td>\n",
       "      <td>407</td>\n",
       "      <td>459</td>\n",
       "      <td>472</td>\n",
       "    </tr>\n",
       "    <tr>\n",
       "      <th>Bomet</th>\n",
       "      <td>647</td>\n",
       "      <td>700</td>\n",
       "      <td>767</td>\n",
       "      <td>835</td>\n",
       "      <td>793</td>\n",
       "      <td>720</td>\n",
       "      <td>799</td>\n",
       "      <td>896</td>\n",
       "      <td>993</td>\n",
       "      <td>905</td>\n",
       "    </tr>\n",
       "    <tr>\n",
       "      <th>Bungoma</th>\n",
       "      <td>828</td>\n",
       "      <td>812</td>\n",
       "      <td>925</td>\n",
       "      <td>930</td>\n",
       "      <td>1084</td>\n",
       "      <td>957</td>\n",
       "      <td>963</td>\n",
       "      <td>1083</td>\n",
       "      <td>1129</td>\n",
       "      <td>1253</td>\n",
       "    </tr>\n",
       "    <tr>\n",
       "      <th>Busia</th>\n",
       "      <td>216</td>\n",
       "      <td>242</td>\n",
       "      <td>272</td>\n",
       "      <td>340</td>\n",
       "      <td>397</td>\n",
       "      <td>282</td>\n",
       "      <td>323</td>\n",
       "      <td>379</td>\n",
       "      <td>445</td>\n",
       "      <td>501</td>\n",
       "    </tr>\n",
       "  </tbody>\n",
       "</table>\n",
       "</div>"
      ],
      "text/plain": [
       "        Frequency                                                 \n",
       "Gender          F                         M                       \n",
       "Year         2006 2007 2008 2009  2010 2006 2007  2008  2009  2010\n",
       "County                                                            \n",
       "0             NaN  NaN  NaN  NaN     2  NaN  NaN   NaN   NaN     4\n",
       "Baringo       274  306  375  411   435  318  354   407   459   472\n",
       "Bomet         647  700  767  835   793  720  799   896   993   905\n",
       "Bungoma       828  812  925  930  1084  957  963  1083  1129  1253\n",
       "Busia         216  242  272  340   397  282  323   379   445   501"
      ]
     },
     "execution_count": 206,
     "metadata": {},
     "output_type": "execute_result"
    }
   ],
   "source": [
    "genderYeardf = genderYeardf.unstack(0)\n",
    "genderYeardf.head()\n"
   ]
  },
  {
   "cell_type": "code",
   "execution_count": 210,
   "metadata": {
    "collapsed": false
   },
   "outputs": [
    {
     "data": {
      "text/html": [
       "<div>\n",
       "<table border=\"1\" class=\"dataframe\">\n",
       "  <thead>\n",
       "    <tr style=\"text-align: right;\">\n",
       "      <th>Year</th>\n",
       "      <th>County</th>\n",
       "      <th>2006</th>\n",
       "      <th>2007</th>\n",
       "      <th>2008</th>\n",
       "      <th>2009</th>\n",
       "      <th>2010</th>\n",
       "    </tr>\n",
       "  </thead>\n",
       "  <tbody>\n",
       "    <tr>\n",
       "      <th>0</th>\n",
       "      <td>0</td>\n",
       "      <td>NaN</td>\n",
       "      <td>NaN</td>\n",
       "      <td>NaN</td>\n",
       "      <td>NaN</td>\n",
       "      <td>2</td>\n",
       "    </tr>\n",
       "    <tr>\n",
       "      <th>1</th>\n",
       "      <td>Baringo</td>\n",
       "      <td>274</td>\n",
       "      <td>306</td>\n",
       "      <td>375</td>\n",
       "      <td>411</td>\n",
       "      <td>435</td>\n",
       "    </tr>\n",
       "    <tr>\n",
       "      <th>2</th>\n",
       "      <td>Bomet</td>\n",
       "      <td>647</td>\n",
       "      <td>700</td>\n",
       "      <td>767</td>\n",
       "      <td>835</td>\n",
       "      <td>793</td>\n",
       "    </tr>\n",
       "    <tr>\n",
       "      <th>3</th>\n",
       "      <td>Bungoma</td>\n",
       "      <td>828</td>\n",
       "      <td>812</td>\n",
       "      <td>925</td>\n",
       "      <td>930</td>\n",
       "      <td>1084</td>\n",
       "    </tr>\n",
       "    <tr>\n",
       "      <th>4</th>\n",
       "      <td>Busia</td>\n",
       "      <td>216</td>\n",
       "      <td>242</td>\n",
       "      <td>272</td>\n",
       "      <td>340</td>\n",
       "      <td>397</td>\n",
       "    </tr>\n",
       "  </tbody>\n",
       "</table>\n",
       "</div>"
      ],
      "text/plain": [
       "Year   County  2006  2007  2008  2009  2010\n",
       "0           0   NaN   NaN   NaN   NaN     2\n",
       "1     Baringo   274   306   375   411   435\n",
       "2       Bomet   647   700   767   835   793\n",
       "3     Bungoma   828   812   925   930  1084\n",
       "4       Busia   216   242   272   340   397"
      ]
     },
     "execution_count": 210,
     "metadata": {},
     "output_type": "execute_result"
    }
   ],
   "source": [
    "genderYeardfF = genderYeardf['Frequency']['F']\n",
    "genderYeardfF.reset_index(inplace=True)\n",
    "genderYeardfF.head()"
   ]
  },
  {
   "cell_type": "code",
   "execution_count": 7,
   "metadata": {
    "collapsed": false
   },
   "outputs": [
    {
     "data": {
      "text/plain": [
       "(6492, 31)"
      ]
     },
     "execution_count": 7,
     "metadata": {},
     "output_type": "execute_result"
    }
   ],
   "source": [
    "datadf.shape"
   ]
  },
  {
   "cell_type": "code",
   "execution_count": 48,
   "metadata": {
    "collapsed": false
   },
   "outputs": [
    {
     "name": "stdout",
     "output_type": "stream",
     "text": [
      "Shape before (5851, 33)\n"
     ]
    },
    {
     "data": {
      "text/plain": [
       "(5350, 33)"
      ]
     },
     "execution_count": 48,
     "metadata": {},
     "output_type": "execute_result"
    }
   ],
   "source": [
    "\"\"\"\n",
    "Remove zeros and outliers\n",
    "\"\"\"\n",
    "def reject_outliers(df, col_name, m=2):\n",
    "    \"\"\" Returns data frame without outliers in the col_name column \"\"\"\n",
    "    return df[np.abs(df[col_name] - df[col_name].mean()) < m * df[col_name].std()]\n",
    "\n",
    "print 'Shape before '+ str(datadf.shape )\n",
    "datadf = reject_outliers(datadf, col_name=u'Total Enrolment 2007', m=1.5) \n",
    "datadf.shape"
   ]
  },
  {
   "cell_type": "code",
   "execution_count": 47,
   "metadata": {
    "collapsed": false
   },
   "outputs": [
    {
     "data": {
      "text/plain": [
       "<matplotlib.axes._subplots.AxesSubplot at 0x1233f0fd0>"
      ]
     },
     "execution_count": 47,
     "metadata": {},
     "output_type": "execute_result"
    },
    {
     "data": {
      "image/png": "[encoded data removed]",
      "text/plain": [
       "<matplotlib.figure.Figure at 0x11f6e7710>"
      ]
     },
     "metadata": {},
     "output_type": "display_data"
    }
   ],
   "source": [
    "datadf[u'Total Enrolment 2007'].hist(bins=150)"
   ]
  },
  {
   "cell_type": "code",
   "execution_count": 50,
   "metadata": {
    "collapsed": false
   },
   "outputs": [],
   "source": [
    "datadf[u'Total Enrolment 2007'].hist?\n",
    "datadf = datadf[datadf[ u'Total Teaching staff']!=0]"
   ]
  },
  {
   "cell_type": "code",
   "execution_count": 51,
   "metadata": {
    "collapsed": true
   },
   "outputs": [],
   "source": [
    "datadf[u'Pupil Teacher Ratio'] =datadf[u'Total Enrolment 2007']/datadf[ u'Total Teaching staff']"
   ]
  },
  {
   "cell_type": "code",
   "execution_count": null,
   "metadata": {
    "collapsed": true
   },
   "outputs": [],
   "source": [
    "datadf[u'Total Enrolment 2007'].hist"
   ]
  },
  {
   "cell_type": "code",
   "execution_count": 29,
   "metadata": {
    "collapsed": false
   },
   "outputs": [
    {
     "data": {
      "text/plain": [
       "<matplotlib.axes._subplots.AxesSubplot at 0x10da2e650>"
      ]
     },
     "execution_count": 29,
     "metadata": {},
     "output_type": "execute_result"
    },
    {
     "data": {
      "image/png": "[encoded data removed]",
      "text/plain": [
       "<matplotlib.figure.Figure at 0x10d9f8ad0>"
      ]
     },
     "metadata": {},
     "output_type": "display_data"
    }
   ],
   "source": [
    "datadf[u'Pupil Teacher Ratio'].hist(bins=30)"
   ]
  },
  {
   "cell_type": "code",
   "execution_count": 54,
   "metadata": {
    "collapsed": false
   },
   "outputs": [
    {
     "data": {
      "text/plain": [
       "<matplotlib.axes._subplots.AxesSubplot at 0x10f358fd0>"
      ]
     },
     "execution_count": 54,
     "metadata": {},
     "output_type": "execute_result"
    },
    {
     "data": {
      "image/png": "[encoded data removed]",
      "text/plain": [
       "<matplotlib.figure.Figure at 0x10eb49490>"
      ]
     },
     "metadata": {},
     "output_type": "display_data"
    }
   ],
   "source": [
    "\n",
    "datadf = datadf[datadf[u'Pupil Teacher Ratio']!=0]\n",
    "datadf[u'Pupil Teacher Ratio'].hist(bins=60)"
   ]
  },
  {
   "cell_type": "code",
   "execution_count": 53,
   "metadata": {
    "collapsed": false
   },
   "outputs": [
    {
     "data": {
      "text/plain": [
       "count    4945.000000\n",
       "mean       14.079548\n",
       "std         9.982880\n",
       "min         0.272727\n",
       "25%         9.500000\n",
       "50%        13.750000\n",
       "75%        17.625000\n",
       "max       293.000000\n",
       "Name: Pupil Teacher Ratio, dtype: float64"
      ]
     },
     "execution_count": 53,
     "metadata": {},
     "output_type": "execute_result"
    }
   ],
   "source": [
    "datadf[u'Pupil Teacher Ratio'].describe()"
   ]
  },
  {
   "cell_type": "code",
   "execution_count": 56,
   "metadata": {
    "collapsed": false
   },
   "outputs": [
    {
     "data": {
      "text/plain": [
       "<bound method Series.unique of 0       19.333333\n",
       "1       25.461538\n",
       "3       21.000000\n",
       "5       21.272727\n",
       "7       13.800000\n",
       "8       22.000000\n",
       "9       26.615385\n",
       "10      17.333333\n",
       "13      17.812500\n",
       "14      24.500000\n",
       "15      22.400000\n",
       "16      11.076923\n",
       "17      22.428571\n",
       "18      18.166667\n",
       "19       8.000000\n",
       "20      17.875000\n",
       "21      20.333333\n",
       "22      20.692308\n",
       "23      20.636364\n",
       "24      12.250000\n",
       "28      15.384615\n",
       "31      20.583333\n",
       "35      10.000000\n",
       "36      10.285714\n",
       "37       7.000000\n",
       "39      10.250000\n",
       "42      12.000000\n",
       "44       3.333333\n",
       "49      17.058824\n",
       "50       5.200000\n",
       "          ...    \n",
       "6447     7.500000\n",
       "6448    10.250000\n",
       "6449    19.000000\n",
       "6450    11.666667\n",
       "6451     8.000000\n",
       "6452    13.500000\n",
       "6453    23.800000\n",
       "6454    16.550000\n",
       "6455     9.500000\n",
       "6456    11.571429\n",
       "6457     2.200000\n",
       "6458    14.727273\n",
       "6459    10.600000\n",
       "6462    15.000000\n",
       "6463    12.666667\n",
       "6464    15.909091\n",
       "6465    12.750000\n",
       "6466    25.181818\n",
       "6468    10.250000\n",
       "6469    11.166667\n",
       "6471     0.437500\n",
       "6472    14.200000\n",
       "6473     8.750000\n",
       "6474    20.600000\n",
       "6482    17.700000\n",
       "6484    12.333333\n",
       "6485     8.500000\n",
       "6487    18.875000\n",
       "6489    17.533333\n",
       "6490    22.312500\n",
       "Name: Pupil Teacher Ratio, dtype: float64>"
      ]
     },
     "execution_count": 56,
     "metadata": {},
     "output_type": "execute_result"
    }
   ],
   "source": [
    "datadf[u'Pupil Teacher Ratio'].unique"
   ]
  },
  {
   "cell_type": "code",
   "execution_count": null,
   "metadata": {
    "collapsed": true
   },
   "outputs": [],
   "source": []
  }
 ],
 "metadata": {
  "celltoolbar": "Slideshow",
  "kernelspec": {
   "display_name": "Python 2",
   "language": "python",
   "name": "python2"
  },
  "language_info": {
   "codemirror_mode": {
    "name": "ipython",
    "version": 2
   },
   "file_extension": ".py",
   "mimetype": "text/x-python",
   "name": "python",
   "nbconvert_exporter": "python",
   "pygments_lexer": "ipython2",
   "version": "2.7.10"
  },
  "widgets": {
   "state": {},
   "version": "1.1.0"
  }
 },
 "nbformat": 4,
 "nbformat_minor": 0
}
